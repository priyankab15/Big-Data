{
 "cells": [
  {
   "cell_type": "markdown",
   "metadata": {},
   "source": [
    "# Problem 1 - Working with RDDs (5 points)\n",
    "\n",
    "This is an interactive PySpark session. Remember that when you open this notebook the `SparkContext` and `SparkSession` are already created, and they are in the `sc` and `spark` variables, respectively. You can run the following two cells to make sure that the Kernel is active.\n",
    "\n",
    "**Do not insert any additional cells than the ones that are provided.**"
   ]
  },
  {
   "cell_type": "code",
   "execution_count": 1,
   "metadata": {},
   "outputs": [
    {
     "data": {
      "text/html": [
       "\n",
       "        <div>\n",
       "            <p><b>SparkContext</b></p>\n",
       "\n",
       "            <p><a href=\"http://ip-172-31-92-119.ec2.internal:4040\">Spark UI</a></p>\n",
       "\n",
       "            <dl>\n",
       "              <dt>Version</dt>\n",
       "                <dd><code>v2.2.1</code></dd>\n",
       "              <dt>Master</dt>\n",
       "                <dd><code>yarn</code></dd>\n",
       "              <dt>AppName</dt>\n",
       "                <dd><code>PySparkShell</code></dd>\n",
       "            </dl>\n",
       "        </div>\n",
       "        "
      ],
      "text/plain": [
       "<SparkContext master=yarn appName=PySparkShell>"
      ]
     },
     "execution_count": 1,
     "metadata": {},
     "output_type": "execute_result"
    }
   ],
   "source": [
    "sc"
   ]
  },
  {
   "cell_type": "code",
   "execution_count": 2,
   "metadata": {},
   "outputs": [
    {
     "data": {
      "text/html": [
       "\n",
       "            <div>\n",
       "                <p><b>SparkSession - hive</b></p>\n",
       "                \n",
       "        <div>\n",
       "            <p><b>SparkContext</b></p>\n",
       "\n",
       "            <p><a href=\"http://ip-172-31-92-119.ec2.internal:4040\">Spark UI</a></p>\n",
       "\n",
       "            <dl>\n",
       "              <dt>Version</dt>\n",
       "                <dd><code>v2.2.1</code></dd>\n",
       "              <dt>Master</dt>\n",
       "                <dd><code>yarn</code></dd>\n",
       "              <dt>AppName</dt>\n",
       "                <dd><code>PySparkShell</code></dd>\n",
       "            </dl>\n",
       "        </div>\n",
       "        \n",
       "            </div>\n",
       "        "
      ],
      "text/plain": [
       "<pyspark.sql.session.SparkSession at 0x7fc8c80c8990>"
      ]
     },
     "execution_count": 2,
     "metadata": {},
     "output_type": "execute_result"
    }
   ],
   "source": [
    "spark"
   ]
  },
  {
   "cell_type": "markdown",
   "metadata": {},
   "source": [
    "In the following cell, make an RDD called `top1m` that contains the contents of the file `top-1m.csv` that you placed into the cluster's HDFS."
   ]
  },
  {
   "cell_type": "code",
   "execution_count": 3,
   "metadata": {},
   "outputs": [
    {
     "data": {
      "text/plain": [
       "[Row(1=u'2', google.com=u'youtube.com'),\n",
       " Row(1=u'3', google.com=u'facebook.com'),\n",
       " Row(1=u'4', google.com=u'baidu.com'),\n",
       " Row(1=u'5', google.com=u'wikipedia.org'),\n",
       " Row(1=u'6', google.com=u'yahoo.com')]"
      ]
     },
     "execution_count": 3,
     "metadata": {},
     "output_type": "execute_result"
    }
   ],
   "source": [
    "top1m= spark.read.csv(\"top-1m.csv\", header= True)\n",
    "top1m.take(5)"
   ]
  },
  {
   "cell_type": "markdown",
   "metadata": {},
   "source": [
    "There is one element in the RDD for each line in the file. The `.count()` method will compute how many lines are in the file. In the following cell, type the expression to count the lines in the `top1m` RDD. Run the cell and see the result."
   ]
  },
  {
   "cell_type": "code",
   "execution_count": 4,
   "metadata": {},
   "outputs": [
    {
     "data": {
      "text/plain": [
       "999999"
      ]
     },
     "execution_count": 4,
     "metadata": {},
     "output_type": "execute_result"
    }
   ],
   "source": [
    "top1m.count()"
   ]
  },
  {
   "cell_type": "markdown",
   "metadata": {},
   "source": [
    "## Count the `.com` domains\n",
    "\n",
    "How many of the websites in this RDD are in the .com domain?\n",
    "\n",
    "In the following cell, write a code snippet that finds the records with `.com` and counts them. (Hint: use a regular expression.)"
   ]
  },
  {
   "cell_type": "code",
   "execution_count": 5,
   "metadata": {},
   "outputs": [
    {
     "name": "stdout",
     "output_type": "stream",
     "text": [
      "537632\n"
     ]
    }
   ],
   "source": [
    "import re\n",
    "count =0 \n",
    "t= top1m.collect()\n",
    "for line in t:\n",
    "    match = re.findall(r'[.][c][o][m]', line[1])\n",
    "    if match:\n",
    "        count= count+1\n",
    "print(count)\n",
    "    "
   ]
  },
  {
   "cell_type": "markdown",
   "metadata": {},
   "source": [
    "## Histogram the Top Level Domains (TLDs)\n",
    "\n",
    "What is the distribution of TLDs in the top 1 million websites? We can quickly compute this using the RDD function `countByValue()`."
   ]
  },
  {
   "cell_type": "markdown",
   "metadata": {},
   "source": [
    "In the following cell, write a function called `tld` (in Python) that takes a domain name string and outputs the top-level domain."
   ]
  },
  {
   "cell_type": "code",
   "execution_count": 16,
   "metadata": {},
   "outputs": [],
   "source": [
    "def tld(line):\n",
    "    domains = line[1].strip().split(\".\")[-1]\n",
    "    return domains\n"
   ]
  },
  {
   "cell_type": "markdown",
   "metadata": {},
   "source": [
    "In the following cell, map the `top1m` RDD using `tld` into a new RDD called `tlds`. "
   ]
  },
  {
   "cell_type": "code",
   "execution_count": 17,
   "metadata": {},
   "outputs": [],
   "source": [
    "tlds = top1m.rdd.map( lambda line: tld(line))"
   ]
  },
  {
   "cell_type": "markdown",
   "metadata": {},
   "source": [
    "In the following two cells, evaluate `top1m.first()` and  `tlds.first()` to see if the first line of `top1m` transformed by `tld` is properly represented as the first line of `tlds`. "
   ]
  },
  {
   "cell_type": "code",
   "execution_count": 18,
   "metadata": {},
   "outputs": [
    {
     "data": {
      "text/plain": [
       "Row(1=u'2', google.com=u'youtube.com')"
      ]
     },
     "execution_count": 18,
     "metadata": {},
     "output_type": "execute_result"
    }
   ],
   "source": [
    "top1m.first()"
   ]
  },
  {
   "cell_type": "code",
   "execution_count": 19,
   "metadata": {},
   "outputs": [
    {
     "data": {
      "text/plain": [
       "u'com'"
      ]
     },
     "execution_count": 19,
     "metadata": {},
     "output_type": "execute_result"
    }
   ],
   "source": [
    "tlds.first()"
   ]
  },
  {
   "cell_type": "markdown",
   "metadata": {},
   "source": [
    "Look at the first 50 elements of `top1m` by evaluating `top1m.take(50)`."
   ]
  },
  {
   "cell_type": "code",
   "execution_count": 20,
   "metadata": {},
   "outputs": [
    {
     "data": {
      "text/plain": [
       "[Row(1=u'2', google.com=u'youtube.com'),\n",
       " Row(1=u'3', google.com=u'facebook.com'),\n",
       " Row(1=u'4', google.com=u'baidu.com'),\n",
       " Row(1=u'5', google.com=u'wikipedia.org'),\n",
       " Row(1=u'6', google.com=u'yahoo.com'),\n",
       " Row(1=u'7', google.com=u'qq.com'),\n",
       " Row(1=u'8', google.com=u'amazon.com'),\n",
       " Row(1=u'9', google.com=u'taobao.com'),\n",
       " Row(1=u'10', google.com=u'twitter.com'),\n",
       " Row(1=u'11', google.com=u'google.co.in'),\n",
       " Row(1=u'12', google.com=u'tmall.com'),\n",
       " Row(1=u'13', google.com=u'instagram.com'),\n",
       " Row(1=u'14', google.com=u'live.com'),\n",
       " Row(1=u'15', google.com=u'vk.com'),\n",
       " Row(1=u'16', google.com=u'sohu.com'),\n",
       " Row(1=u'17', google.com=u'jd.com'),\n",
       " Row(1=u'18', google.com=u'sina.com.cn'),\n",
       " Row(1=u'19', google.com=u'reddit.com'),\n",
       " Row(1=u'20', google.com=u'weibo.com'),\n",
       " Row(1=u'21', google.com=u'google.co.jp'),\n",
       " Row(1=u'22', google.com=u'yandex.ru'),\n",
       " Row(1=u'23', google.com=u'360.cn'),\n",
       " Row(1=u'24', google.com=u'blogspot.com'),\n",
       " Row(1=u'25', google.com=u'login.tmall.com'),\n",
       " Row(1=u'26', google.com=u'linkedin.com'),\n",
       " Row(1=u'27', google.com=u'pornhub.com'),\n",
       " Row(1=u'28', google.com=u'google.ru'),\n",
       " Row(1=u'29', google.com=u'netflix.com'),\n",
       " Row(1=u'30', google.com=u'google.com.br'),\n",
       " Row(1=u'31', google.com=u'google.com.hk'),\n",
       " Row(1=u'32', google.com=u'google.co.uk'),\n",
       " Row(1=u'33', google.com=u'bongacams.com'),\n",
       " Row(1=u'34', google.com=u'yahoo.co.jp'),\n",
       " Row(1=u'35', google.com=u'google.fr'),\n",
       " Row(1=u'36', google.com=u'csdn.net'),\n",
       " Row(1=u'37', google.com=u't.co'),\n",
       " Row(1=u'38', google.com=u'google.de'),\n",
       " Row(1=u'39', google.com=u'ebay.com'),\n",
       " Row(1=u'40', google.com=u'microsoft.com'),\n",
       " Row(1=u'41', google.com=u'alipay.com'),\n",
       " Row(1=u'42', google.com=u'office.com'),\n",
       " Row(1=u'43', google.com=u'twitch.tv'),\n",
       " Row(1=u'44', google.com=u'msn.com'),\n",
       " Row(1=u'45', google.com=u'bing.com'),\n",
       " Row(1=u'46', google.com=u'xvideos.com'),\n",
       " Row(1=u'47', google.com=u'microsoftonline.com'),\n",
       " Row(1=u'48', google.com=u'mail.ru'),\n",
       " Row(1=u'49', google.com=u'pages.tmall.com'),\n",
       " Row(1=u'50', google.com=u'ok.ru'),\n",
       " Row(1=u'51', google.com=u'naver.com')]"
      ]
     },
     "execution_count": 20,
     "metadata": {},
     "output_type": "execute_result"
    }
   ],
   "source": [
    "top1m.take(50)"
   ]
  },
  {
   "cell_type": "markdown",
   "metadata": {},
   "source": [
    "Try the same thing with the `tlds` RDD to make sure that the first 50 lines were properly transformed.\n"
   ]
  },
  {
   "cell_type": "code",
   "execution_count": 21,
   "metadata": {},
   "outputs": [
    {
     "data": {
      "text/plain": [
       "[u'com',\n",
       " u'com',\n",
       " u'com',\n",
       " u'org',\n",
       " u'com',\n",
       " u'com',\n",
       " u'com',\n",
       " u'com',\n",
       " u'com',\n",
       " u'in',\n",
       " u'com',\n",
       " u'com',\n",
       " u'com',\n",
       " u'com',\n",
       " u'com',\n",
       " u'com',\n",
       " u'cn',\n",
       " u'com',\n",
       " u'com',\n",
       " u'jp',\n",
       " u'ru',\n",
       " u'cn',\n",
       " u'com',\n",
       " u'com',\n",
       " u'com',\n",
       " u'com',\n",
       " u'ru',\n",
       " u'com',\n",
       " u'br',\n",
       " u'hk',\n",
       " u'uk',\n",
       " u'com',\n",
       " u'jp',\n",
       " u'fr',\n",
       " u'net',\n",
       " u'co',\n",
       " u'de',\n",
       " u'com',\n",
       " u'com',\n",
       " u'com',\n",
       " u'com',\n",
       " u'tv',\n",
       " u'com',\n",
       " u'com',\n",
       " u'com',\n",
       " u'com',\n",
       " u'ru',\n",
       " u'com',\n",
       " u'ru',\n",
       " u'com']"
      ]
     },
     "execution_count": 21,
     "metadata": {},
     "output_type": "execute_result"
    }
   ],
   "source": [
    "tlds.take(50)"
   ]
  },
  {
   "cell_type": "markdown",
   "metadata": {},
   "source": [
    "At this point, `tlds.countByValue()` would give us a list of each TLD and the number of times that it appears in the top1m file. Note that this function returns the results as a `defaultDict` in the Python environemnt, not as an RDD. But we want it reverse sorted by count. To do this, we can set a variable called `tlds_and_counts` equal to `tlds.countByValue()` and then reverse the order, sort, and take the top 50, like this:\n",
    "\n",
    "```\n",
    "tlds_and_counts = tlds.countByValue()\n",
    "counts_and_tlds = [(count,domain) for (domain,count) in tlds_and_counts.items()]\n",
    "```\n",
    "\n",
    "In the following cell, run the code above to produce the Python Dictionary."
   ]
  },
  {
   "cell_type": "code",
   "execution_count": 22,
   "metadata": {},
   "outputs": [],
   "source": [
    "tlds_and_counts = tlds.countByValue()\n",
    "counts_and_tlds = [(count,domain) for (domain,count) in tlds_and_counts.items()]"
   ]
  },
  {
   "cell_type": "markdown",
   "metadata": {},
   "source": [
    "In the following cell, reverse sort `counts_and_tlds` and display the first 50."
   ]
  },
  {
   "cell_type": "code",
   "execution_count": 23,
   "metadata": {},
   "outputs": [
    {
     "data": {
      "text/plain": [
       "[(484592, u'com'),\n",
       " (45610, u'org'),\n",
       " (41336, u'net'),\n",
       " (40239, u'ru'),\n",
       " (34374, u'de'),\n",
       " (28186, u'br'),\n",
       " (18616, u'uk'),\n",
       " (16903, u'pl'),\n",
       " (15507, u'ir'),\n",
       " (12239, u'it'),\n",
       " (12041, u'in'),\n",
       " (10346, u'fr'),\n",
       " (9411, u'au'),\n",
       " (8753, u'jp'),\n",
       " (8414, u'info'),\n",
       " (8070, u'cz'),\n",
       " (6518, u'es'),\n",
       " (6340, u'nl'),\n",
       " (6262, u'ua'),\n",
       " (6086, u'co'),\n",
       " (5706, u'cn'),\n",
       " (5634, u'ca'),\n",
       " (5596, u'io'),\n",
       " (5246, u'tw'),\n",
       " (5009, u'eu'),\n",
       " (4812, u'kr'),\n",
       " (4794, u'gr'),\n",
       " (4788, u'ch'),\n",
       " (4512, u'mx'),\n",
       " (3841, u'ro'),\n",
       " (3836, u'se'),\n",
       " (3631, u'no'),\n",
       " (3608, u'at'),\n",
       " (3484, u'me'),\n",
       " (3469, u'tv'),\n",
       " (3392, u'be'),\n",
       " (3267, u'za'),\n",
       " (3266, u'hu'),\n",
       " (3076, u'vn'),\n",
       " (3039, u'sk'),\n",
       " (3020, u'us'),\n",
       " (3013, u'ar'),\n",
       " (2798, u'edu'),\n",
       " (2769, u'dk'),\n",
       " (2553, u'tr'),\n",
       " (2439, u'pt'),\n",
       " (2300, u'biz'),\n",
       " (2256, u'cl'),\n",
       " (2228, u'id'),\n",
       " (2154, u'fi')]"
      ]
     },
     "execution_count": 23,
     "metadata": {},
     "output_type": "execute_result"
    }
   ],
   "source": [
    "counts_and_tlds_rdd= sc.parallelize(counts_and_tlds)\n",
    "counts_and_tlds_rdd.takeOrdered(50, key = lambda count: -count[0])"
   ]
  },
  {
   "cell_type": "markdown",
   "metadata": {},
   "source": [
    "**Question:** `top1m.collect()[0:50]` and `top1m.take(50)` produce the same result. Which one is more efficient and why? Put your answer in the cell below."
   ]
  },
  {
   "cell_type": "code",
   "execution_count": null,
   "metadata": {},
   "outputs": [],
   "source": [
    "## Answer Here (don't run this cell)\n",
    "Though top1m.collect()[0:50] and top1m.take(50) produce same results, I would say that \n",
    "top1m.take(50) is more efficient because it executes in no time while top1m.collect()[0:50] \n",
    "takes around 30sec to execute and also when this operation is issued in dataset, the data is \n",
    "copied to the driver ie, the master node and also a memory exemption can be thrown saying that\n",
    "data is too large to fit in the memory whereas 'take' can be used to retrive only the selected \n",
    "number of elements instead.\n"
   ]
  },
  {
   "cell_type": "markdown",
   "metadata": {},
   "source": [
    "When you finish this problem, click on the File -> 'Save and Checkpoint' in the menu bar to make sure that the latest version of the workbook file is saved. Also, before you close this notebook and move on, make sure you disconnect your SparkContext, otherwise you will not be able to re-allocate resources. Remember, you will commit the .ipynb file to the repository for submission (in the master node terminal.)"
   ]
  },
  {
   "cell_type": "code",
   "execution_count": 24,
   "metadata": {},
   "outputs": [],
   "source": [
    "sc.stop()"
   ]
  }
 ],
 "metadata": {
  "kernelspec": {
   "display_name": "Python 2",
   "language": "python",
   "name": "python2"
  },
  "language_info": {
   "codemirror_mode": {
    "name": "ipython",
    "version": 2
   },
   "file_extension": ".py",
   "mimetype": "text/x-python",
   "name": "python",
   "nbconvert_exporter": "python",
   "pygments_lexer": "ipython2",
   "version": "2.7.13"
  }
 },
 "nbformat": 4,
 "nbformat_minor": 2
}
